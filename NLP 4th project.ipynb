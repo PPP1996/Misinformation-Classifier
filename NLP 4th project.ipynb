{
 "cells": [
  {
   "cell_type": "markdown",
   "id": "7e24ecf3",
   "metadata": {},
   "source": [
    "## Step 1 - Project Problem Statement"
   ]
  },
  {
   "cell_type": "raw",
   "id": "a3d6147f",
   "metadata": {},
   "source": [
    "The internet makes it easy for billions of people to access information with a few simple keystrokes. However, it also makes it easy to spread false information, which can have disastrous effects on both individuals and society as a whole. For this reason, it’s important to fact-check of information."
   ]
  },
  {
   "cell_type": "markdown",
   "id": "6a0c25df",
   "metadata": {},
   "source": [
    "## Step 2 - Data Gathering"
   ]
  },
  {
   "cell_type": "markdown",
   "id": "18aa7d7f",
   "metadata": {},
   "source": [
    "### 2.1 Import Libraries"
   ]
  },
  {
   "cell_type": "code",
   "execution_count": 1,
   "id": "a606eff5",
   "metadata": {},
   "outputs": [],
   "source": [
    "import pandas as pd\n",
    "import numpy as np\n",
    "import os\n",
    "import glob\n",
    "import re\n",
    "from sklearn.feature_extraction.text import CountVectorizer, TfidfVectorizer\n",
    "from sklearn.model_selection import train_test_split,RandomizedSearchCV\n",
    "from sklearn.linear_model import LogisticRegression\n",
    "from sklearn.neighbors import KNeighborsClassifier\n",
    "from sklearn.tree import DecisionTreeClassifier,plot_tree\n",
    "from sklearn.ensemble import RandomForestClassifier\n",
    "from sklearn.svm import SVC\n",
    "from sklearn.naive_bayes import MultinomialNB\n",
    "from sklearn.metrics import accuracy_score,confusion_matrix, classification_report\n",
    "from sklearn.preprocessing import LabelEncoder"
   ]
  },
  {
   "cell_type": "code",
   "execution_count": 2,
   "id": "36097ea2",
   "metadata": {},
   "outputs": [
    {
     "data": {
      "text/html": [
       "<div>\n",
       "<style scoped>\n",
       "    .dataframe tbody tr th:only-of-type {\n",
       "        vertical-align: middle;\n",
       "    }\n",
       "\n",
       "    .dataframe tbody tr th {\n",
       "        vertical-align: top;\n",
       "    }\n",
       "\n",
       "    .dataframe thead th {\n",
       "        text-align: right;\n",
       "    }\n",
       "</style>\n",
       "<table border=\"1\" class=\"dataframe\">\n",
       "  <thead>\n",
       "    <tr style=\"text-align: right;\">\n",
       "      <th></th>\n",
       "      <th>Unnamed: 0</th>\n",
       "      <th>title</th>\n",
       "      <th>text</th>\n",
       "      <th>label</th>\n",
       "    </tr>\n",
       "  </thead>\n",
       "  <tbody>\n",
       "    <tr>\n",
       "      <th>0</th>\n",
       "      <td>8476</td>\n",
       "      <td>You Can Smell Hillary’s Fear</td>\n",
       "      <td>Daniel Greenfield, a Shillman Journalism Fello...</td>\n",
       "      <td>FAKE</td>\n",
       "    </tr>\n",
       "    <tr>\n",
       "      <th>1</th>\n",
       "      <td>10294</td>\n",
       "      <td>Watch The Exact Moment Paul Ryan Committed Pol...</td>\n",
       "      <td>Google Pinterest Digg Linkedin Reddit Stumbleu...</td>\n",
       "      <td>FAKE</td>\n",
       "    </tr>\n",
       "    <tr>\n",
       "      <th>2</th>\n",
       "      <td>3608</td>\n",
       "      <td>Kerry to go to Paris in gesture of sympathy</td>\n",
       "      <td>U.S. Secretary of State John F. Kerry said Mon...</td>\n",
       "      <td>REAL</td>\n",
       "    </tr>\n",
       "    <tr>\n",
       "      <th>3</th>\n",
       "      <td>10142</td>\n",
       "      <td>Bernie supporters on Twitter erupt in anger ag...</td>\n",
       "      <td>— Kaydee King (@KaydeeKing) November 9, 2016 T...</td>\n",
       "      <td>FAKE</td>\n",
       "    </tr>\n",
       "    <tr>\n",
       "      <th>4</th>\n",
       "      <td>875</td>\n",
       "      <td>The Battle of New York: Why This Primary Matters</td>\n",
       "      <td>It's primary day in New York and front-runners...</td>\n",
       "      <td>REAL</td>\n",
       "    </tr>\n",
       "    <tr>\n",
       "      <th>...</th>\n",
       "      <td>...</td>\n",
       "      <td>...</td>\n",
       "      <td>...</td>\n",
       "      <td>...</td>\n",
       "    </tr>\n",
       "    <tr>\n",
       "      <th>6330</th>\n",
       "      <td>4490</td>\n",
       "      <td>State Department says it can't find emails fro...</td>\n",
       "      <td>The State Department told the Republican Natio...</td>\n",
       "      <td>REAL</td>\n",
       "    </tr>\n",
       "    <tr>\n",
       "      <th>6331</th>\n",
       "      <td>8062</td>\n",
       "      <td>The ‘P’ in PBS Should Stand for ‘Plutocratic’ ...</td>\n",
       "      <td>The ‘P’ in PBS Should Stand for ‘Plutocratic’ ...</td>\n",
       "      <td>FAKE</td>\n",
       "    </tr>\n",
       "    <tr>\n",
       "      <th>6332</th>\n",
       "      <td>8622</td>\n",
       "      <td>Anti-Trump Protesters Are Tools of the Oligarc...</td>\n",
       "      <td>Anti-Trump Protesters Are Tools of the Oligar...</td>\n",
       "      <td>FAKE</td>\n",
       "    </tr>\n",
       "    <tr>\n",
       "      <th>6333</th>\n",
       "      <td>4021</td>\n",
       "      <td>In Ethiopia, Obama seeks progress on peace, se...</td>\n",
       "      <td>ADDIS ABABA, Ethiopia —President Obama convene...</td>\n",
       "      <td>REAL</td>\n",
       "    </tr>\n",
       "    <tr>\n",
       "      <th>6334</th>\n",
       "      <td>4330</td>\n",
       "      <td>Jeb Bush Is Suddenly Attacking Trump. Here's W...</td>\n",
       "      <td>Jeb Bush Is Suddenly Attacking Trump. Here's W...</td>\n",
       "      <td>REAL</td>\n",
       "    </tr>\n",
       "  </tbody>\n",
       "</table>\n",
       "<p>6335 rows × 4 columns</p>\n",
       "</div>"
      ],
      "text/plain": [
       "      Unnamed: 0                                              title  \\\n",
       "0           8476                       You Can Smell Hillary’s Fear   \n",
       "1          10294  Watch The Exact Moment Paul Ryan Committed Pol...   \n",
       "2           3608        Kerry to go to Paris in gesture of sympathy   \n",
       "3          10142  Bernie supporters on Twitter erupt in anger ag...   \n",
       "4            875   The Battle of New York: Why This Primary Matters   \n",
       "...          ...                                                ...   \n",
       "6330        4490  State Department says it can't find emails fro...   \n",
       "6331        8062  The ‘P’ in PBS Should Stand for ‘Plutocratic’ ...   \n",
       "6332        8622  Anti-Trump Protesters Are Tools of the Oligarc...   \n",
       "6333        4021  In Ethiopia, Obama seeks progress on peace, se...   \n",
       "6334        4330  Jeb Bush Is Suddenly Attacking Trump. Here's W...   \n",
       "\n",
       "                                                   text label  \n",
       "0     Daniel Greenfield, a Shillman Journalism Fello...  FAKE  \n",
       "1     Google Pinterest Digg Linkedin Reddit Stumbleu...  FAKE  \n",
       "2     U.S. Secretary of State John F. Kerry said Mon...  REAL  \n",
       "3     — Kaydee King (@KaydeeKing) November 9, 2016 T...  FAKE  \n",
       "4     It's primary day in New York and front-runners...  REAL  \n",
       "...                                                 ...   ...  \n",
       "6330  The State Department told the Republican Natio...  REAL  \n",
       "6331  The ‘P’ in PBS Should Stand for ‘Plutocratic’ ...  FAKE  \n",
       "6332   Anti-Trump Protesters Are Tools of the Oligar...  FAKE  \n",
       "6333  ADDIS ABABA, Ethiopia —President Obama convene...  REAL  \n",
       "6334  Jeb Bush Is Suddenly Attacking Trump. Here's W...  REAL  \n",
       "\n",
       "[6335 rows x 4 columns]"
      ]
     },
     "execution_count": 2,
     "metadata": {},
     "output_type": "execute_result"
    }
   ],
   "source": [
    "df = pd.read_csv(r\"D:\\python\\Project\\NLP 4th Project\\fake_or_real_news.csv\")\n",
    "df"
   ]
  },
  {
   "cell_type": "code",
   "execution_count": 3,
   "id": "28edae8e",
   "metadata": {},
   "outputs": [
    {
     "data": {
      "text/plain": [
       "(6335, 4)"
      ]
     },
     "execution_count": 3,
     "metadata": {},
     "output_type": "execute_result"
    }
   ],
   "source": [
    "df.shape # shape of dataframe"
   ]
  },
  {
   "cell_type": "code",
   "execution_count": 4,
   "id": "08942ef4",
   "metadata": {},
   "outputs": [
    {
     "data": {
      "text/plain": [
       "REAL    3171\n",
       "FAKE    3164\n",
       "Name: label, dtype: int64"
      ]
     },
     "execution_count": 4,
     "metadata": {},
     "output_type": "execute_result"
    }
   ],
   "source": [
    "df['label'].value_counts() # Values in Language feature"
   ]
  },
  {
   "cell_type": "code",
   "execution_count": 5,
   "id": "e1f2060f",
   "metadata": {},
   "outputs": [
    {
     "data": {
      "text/plain": [
       "0        8476\n",
       "1       10294\n",
       "2        3608\n",
       "3       10142\n",
       "4         875\n",
       "        ...  \n",
       "6330     4490\n",
       "6331     8062\n",
       "6332     8622\n",
       "6333     4021\n",
       "6334     4330\n",
       "Name: Unnamed: 0, Length: 6335, dtype: int64"
      ]
     },
     "execution_count": 5,
     "metadata": {},
     "output_type": "execute_result"
    }
   ],
   "source": [
    "df[\"Unnamed: 0\"]"
   ]
  },
  {
   "cell_type": "code",
   "execution_count": 6,
   "id": "c9d046d4",
   "metadata": {},
   "outputs": [],
   "source": [
    "# Unnamed: 0 is irrevent feature\n",
    "\n",
    "df.drop(\"Unnamed: 0\", axis =1, inplace =True)"
   ]
  },
  {
   "cell_type": "markdown",
   "id": "53f078e9",
   "metadata": {},
   "source": [
    "## Step 3 - Data Cleaning"
   ]
  },
  {
   "cell_type": "code",
   "execution_count": 7,
   "id": "49519810",
   "metadata": {},
   "outputs": [
    {
     "data": {
      "text/plain": [
       "False    6306\n",
       "True       29\n",
       "dtype: int64"
      ]
     },
     "execution_count": 7,
     "metadata": {},
     "output_type": "execute_result"
    }
   ],
   "source": [
    "df.duplicated(keep = \"first\").value_counts() # check out the duplicate value in dataframe"
   ]
  },
  {
   "cell_type": "code",
   "execution_count": 8,
   "id": "049c56a8",
   "metadata": {},
   "outputs": [],
   "source": [
    "# It shows True= 29 it means that there are 29 duplicate rows are present in the dataset."
   ]
  },
  {
   "cell_type": "code",
   "execution_count": 9,
   "id": "3e81e0f1",
   "metadata": {},
   "outputs": [],
   "source": [
    "# drop duplicate rows\n",
    "\n",
    "df.drop_duplicates(keep=\"first\", inplace=True, ignore_index=True)"
   ]
  },
  {
   "cell_type": "code",
   "execution_count": 10,
   "id": "2f8acf63",
   "metadata": {},
   "outputs": [
    {
     "data": {
      "text/html": [
       "<div>\n",
       "<style scoped>\n",
       "    .dataframe tbody tr th:only-of-type {\n",
       "        vertical-align: middle;\n",
       "    }\n",
       "\n",
       "    .dataframe tbody tr th {\n",
       "        vertical-align: top;\n",
       "    }\n",
       "\n",
       "    .dataframe thead th {\n",
       "        text-align: right;\n",
       "    }\n",
       "</style>\n",
       "<table border=\"1\" class=\"dataframe\">\n",
       "  <thead>\n",
       "    <tr style=\"text-align: right;\">\n",
       "      <th></th>\n",
       "      <th>title</th>\n",
       "      <th>text</th>\n",
       "      <th>label</th>\n",
       "    </tr>\n",
       "  </thead>\n",
       "  <tbody>\n",
       "    <tr>\n",
       "      <th>0</th>\n",
       "      <td>You Can Smell Hillary’s Fear</td>\n",
       "      <td>Daniel Greenfield, a Shillman Journalism Fello...</td>\n",
       "      <td>FAKE</td>\n",
       "    </tr>\n",
       "    <tr>\n",
       "      <th>1</th>\n",
       "      <td>Watch The Exact Moment Paul Ryan Committed Pol...</td>\n",
       "      <td>Google Pinterest Digg Linkedin Reddit Stumbleu...</td>\n",
       "      <td>FAKE</td>\n",
       "    </tr>\n",
       "    <tr>\n",
       "      <th>2</th>\n",
       "      <td>Kerry to go to Paris in gesture of sympathy</td>\n",
       "      <td>U.S. Secretary of State John F. Kerry said Mon...</td>\n",
       "      <td>REAL</td>\n",
       "    </tr>\n",
       "    <tr>\n",
       "      <th>3</th>\n",
       "      <td>Bernie supporters on Twitter erupt in anger ag...</td>\n",
       "      <td>— Kaydee King (@KaydeeKing) November 9, 2016 T...</td>\n",
       "      <td>FAKE</td>\n",
       "    </tr>\n",
       "    <tr>\n",
       "      <th>4</th>\n",
       "      <td>The Battle of New York: Why This Primary Matters</td>\n",
       "      <td>It's primary day in New York and front-runners...</td>\n",
       "      <td>REAL</td>\n",
       "    </tr>\n",
       "    <tr>\n",
       "      <th>...</th>\n",
       "      <td>...</td>\n",
       "      <td>...</td>\n",
       "      <td>...</td>\n",
       "    </tr>\n",
       "    <tr>\n",
       "      <th>6301</th>\n",
       "      <td>State Department says it can't find emails fro...</td>\n",
       "      <td>The State Department told the Republican Natio...</td>\n",
       "      <td>REAL</td>\n",
       "    </tr>\n",
       "    <tr>\n",
       "      <th>6302</th>\n",
       "      <td>The ‘P’ in PBS Should Stand for ‘Plutocratic’ ...</td>\n",
       "      <td>The ‘P’ in PBS Should Stand for ‘Plutocratic’ ...</td>\n",
       "      <td>FAKE</td>\n",
       "    </tr>\n",
       "    <tr>\n",
       "      <th>6303</th>\n",
       "      <td>Anti-Trump Protesters Are Tools of the Oligarc...</td>\n",
       "      <td>Anti-Trump Protesters Are Tools of the Oligar...</td>\n",
       "      <td>FAKE</td>\n",
       "    </tr>\n",
       "    <tr>\n",
       "      <th>6304</th>\n",
       "      <td>In Ethiopia, Obama seeks progress on peace, se...</td>\n",
       "      <td>ADDIS ABABA, Ethiopia —President Obama convene...</td>\n",
       "      <td>REAL</td>\n",
       "    </tr>\n",
       "    <tr>\n",
       "      <th>6305</th>\n",
       "      <td>Jeb Bush Is Suddenly Attacking Trump. Here's W...</td>\n",
       "      <td>Jeb Bush Is Suddenly Attacking Trump. Here's W...</td>\n",
       "      <td>REAL</td>\n",
       "    </tr>\n",
       "  </tbody>\n",
       "</table>\n",
       "<p>6306 rows × 3 columns</p>\n",
       "</div>"
      ],
      "text/plain": [
       "                                                  title  \\\n",
       "0                          You Can Smell Hillary’s Fear   \n",
       "1     Watch The Exact Moment Paul Ryan Committed Pol...   \n",
       "2           Kerry to go to Paris in gesture of sympathy   \n",
       "3     Bernie supporters on Twitter erupt in anger ag...   \n",
       "4      The Battle of New York: Why This Primary Matters   \n",
       "...                                                 ...   \n",
       "6301  State Department says it can't find emails fro...   \n",
       "6302  The ‘P’ in PBS Should Stand for ‘Plutocratic’ ...   \n",
       "6303  Anti-Trump Protesters Are Tools of the Oligarc...   \n",
       "6304  In Ethiopia, Obama seeks progress on peace, se...   \n",
       "6305  Jeb Bush Is Suddenly Attacking Trump. Here's W...   \n",
       "\n",
       "                                                   text label  \n",
       "0     Daniel Greenfield, a Shillman Journalism Fello...  FAKE  \n",
       "1     Google Pinterest Digg Linkedin Reddit Stumbleu...  FAKE  \n",
       "2     U.S. Secretary of State John F. Kerry said Mon...  REAL  \n",
       "3     — Kaydee King (@KaydeeKing) November 9, 2016 T...  FAKE  \n",
       "4     It's primary day in New York and front-runners...  REAL  \n",
       "...                                                 ...   ...  \n",
       "6301  The State Department told the Republican Natio...  REAL  \n",
       "6302  The ‘P’ in PBS Should Stand for ‘Plutocratic’ ...  FAKE  \n",
       "6303   Anti-Trump Protesters Are Tools of the Oligar...  FAKE  \n",
       "6304  ADDIS ABABA, Ethiopia —President Obama convene...  REAL  \n",
       "6305  Jeb Bush Is Suddenly Attacking Trump. Here's W...  REAL  \n",
       "\n",
       "[6306 rows x 3 columns]"
      ]
     },
     "execution_count": 10,
     "metadata": {},
     "output_type": "execute_result"
    }
   ],
   "source": [
    "df"
   ]
  },
  {
   "cell_type": "markdown",
   "id": "45c02798",
   "metadata": {},
   "source": [
    "## Step 4 - EDA (Exploratory Data Analysis)"
   ]
  },
  {
   "cell_type": "code",
   "execution_count": 11,
   "id": "21aad55a",
   "metadata": {},
   "outputs": [
    {
     "data": {
      "text/plain": [
       "(6306, 3)"
      ]
     },
     "execution_count": 11,
     "metadata": {},
     "output_type": "execute_result"
    }
   ],
   "source": [
    "df.shape # shape of dataframe"
   ]
  },
  {
   "cell_type": "code",
   "execution_count": 12,
   "id": "845f5048",
   "metadata": {},
   "outputs": [
    {
     "data": {
      "text/html": [
       "<div>\n",
       "<style scoped>\n",
       "    .dataframe tbody tr th:only-of-type {\n",
       "        vertical-align: middle;\n",
       "    }\n",
       "\n",
       "    .dataframe tbody tr th {\n",
       "        vertical-align: top;\n",
       "    }\n",
       "\n",
       "    .dataframe thead th {\n",
       "        text-align: right;\n",
       "    }\n",
       "</style>\n",
       "<table border=\"1\" class=\"dataframe\">\n",
       "  <thead>\n",
       "    <tr style=\"text-align: right;\">\n",
       "      <th></th>\n",
       "      <th>title</th>\n",
       "      <th>text</th>\n",
       "      <th>label</th>\n",
       "    </tr>\n",
       "  </thead>\n",
       "  <tbody>\n",
       "    <tr>\n",
       "      <th>count</th>\n",
       "      <td>6306</td>\n",
       "      <td>6306</td>\n",
       "      <td>6306</td>\n",
       "    </tr>\n",
       "    <tr>\n",
       "      <th>unique</th>\n",
       "      <td>6256</td>\n",
       "      <td>6060</td>\n",
       "      <td>2</td>\n",
       "    </tr>\n",
       "    <tr>\n",
       "      <th>top</th>\n",
       "      <td>Michael Moore Owes Me $4.99</td>\n",
       "      <td>Killing Obama administration rules, dismantlin...</td>\n",
       "      <td>REAL</td>\n",
       "    </tr>\n",
       "    <tr>\n",
       "      <th>freq</th>\n",
       "      <td>3</td>\n",
       "      <td>57</td>\n",
       "      <td>3154</td>\n",
       "    </tr>\n",
       "  </tbody>\n",
       "</table>\n",
       "</div>"
      ],
      "text/plain": [
       "                              title  \\\n",
       "count                          6306   \n",
       "unique                         6256   \n",
       "top     Michael Moore Owes Me $4.99   \n",
       "freq                              3   \n",
       "\n",
       "                                                     text label  \n",
       "count                                                6306  6306  \n",
       "unique                                               6060     2  \n",
       "top     Killing Obama administration rules, dismantlin...  REAL  \n",
       "freq                                                   57  3154  "
      ]
     },
     "execution_count": 12,
     "metadata": {},
     "output_type": "execute_result"
    }
   ],
   "source": [
    "# df.describe()\n",
    "# Check out the discription of dataset,\n",
    "# it shows the count, unique,top and frequency of all features separately\n",
    "\n",
    "df.describe()"
   ]
  },
  {
   "cell_type": "code",
   "execution_count": 13,
   "id": "1f5924f8",
   "metadata": {},
   "outputs": [
    {
     "name": "stdout",
     "output_type": "stream",
     "text": [
      "<class 'pandas.core.frame.DataFrame'>\n",
      "RangeIndex: 6306 entries, 0 to 6305\n",
      "Data columns (total 3 columns):\n",
      " #   Column  Non-Null Count  Dtype \n",
      "---  ------  --------------  ----- \n",
      " 0   title   6306 non-null   object\n",
      " 1   text    6306 non-null   object\n",
      " 2   label   6306 non-null   object\n",
      "dtypes: object(3)\n",
      "memory usage: 147.9+ KB\n"
     ]
    }
   ],
   "source": [
    "# df.info()\n",
    "# It gives the information of dataset\n",
    "# It shows the non null count and datatypes of every feature\n",
    "\n",
    "df.info()"
   ]
  },
  {
   "cell_type": "code",
   "execution_count": 14,
   "id": "3e5ccc30",
   "metadata": {},
   "outputs": [
    {
     "data": {
      "text/plain": [
       "title    0\n",
       "text     0\n",
       "label    0\n",
       "dtype: int64"
      ]
     },
     "execution_count": 14,
     "metadata": {},
     "output_type": "execute_result"
    }
   ],
   "source": [
    "df.isna().sum() # check null value count of every feature"
   ]
  },
  {
   "cell_type": "code",
   "execution_count": 15,
   "id": "24c40777",
   "metadata": {},
   "outputs": [],
   "source": [
    "# it clearly indicates that there is no null value in dataset."
   ]
  },
  {
   "cell_type": "markdown",
   "id": "ee9ca2c9",
   "metadata": {},
   "source": [
    "## Label Encoding"
   ]
  },
  {
   "cell_type": "code",
   "execution_count": 16,
   "id": "59096eb3",
   "metadata": {},
   "outputs": [
    {
     "data": {
      "text/plain": [
       "REAL    3154\n",
       "FAKE    3152\n",
       "Name: label, dtype: int64"
      ]
     },
     "execution_count": 16,
     "metadata": {},
     "output_type": "execute_result"
    }
   ],
   "source": [
    "df[\"label\"].value_counts() # Values in Language feature"
   ]
  },
  {
   "cell_type": "code",
   "execution_count": 17,
   "id": "ac225da4",
   "metadata": {},
   "outputs": [],
   "source": [
    "# Real = 3154 and Fake = 3152 \n",
    "# Both values are almost similar so no need of data balancing"
   ]
  },
  {
   "cell_type": "code",
   "execution_count": 18,
   "id": "2b315b06",
   "metadata": {},
   "outputs": [
    {
     "data": {
      "text/html": [
       "<div>\n",
       "<style scoped>\n",
       "    .dataframe tbody tr th:only-of-type {\n",
       "        vertical-align: middle;\n",
       "    }\n",
       "\n",
       "    .dataframe tbody tr th {\n",
       "        vertical-align: top;\n",
       "    }\n",
       "\n",
       "    .dataframe thead th {\n",
       "        text-align: right;\n",
       "    }\n",
       "</style>\n",
       "<table border=\"1\" class=\"dataframe\">\n",
       "  <thead>\n",
       "    <tr style=\"text-align: right;\">\n",
       "      <th></th>\n",
       "      <th>title</th>\n",
       "      <th>text</th>\n",
       "      <th>label</th>\n",
       "    </tr>\n",
       "  </thead>\n",
       "  <tbody>\n",
       "    <tr>\n",
       "      <th>0</th>\n",
       "      <td>You Can Smell Hillary’s Fear</td>\n",
       "      <td>Daniel Greenfield, a Shillman Journalism Fello...</td>\n",
       "      <td>0</td>\n",
       "    </tr>\n",
       "    <tr>\n",
       "      <th>1</th>\n",
       "      <td>Watch The Exact Moment Paul Ryan Committed Pol...</td>\n",
       "      <td>Google Pinterest Digg Linkedin Reddit Stumbleu...</td>\n",
       "      <td>0</td>\n",
       "    </tr>\n",
       "    <tr>\n",
       "      <th>2</th>\n",
       "      <td>Kerry to go to Paris in gesture of sympathy</td>\n",
       "      <td>U.S. Secretary of State John F. Kerry said Mon...</td>\n",
       "      <td>1</td>\n",
       "    </tr>\n",
       "    <tr>\n",
       "      <th>3</th>\n",
       "      <td>Bernie supporters on Twitter erupt in anger ag...</td>\n",
       "      <td>— Kaydee King (@KaydeeKing) November 9, 2016 T...</td>\n",
       "      <td>0</td>\n",
       "    </tr>\n",
       "    <tr>\n",
       "      <th>4</th>\n",
       "      <td>The Battle of New York: Why This Primary Matters</td>\n",
       "      <td>It's primary day in New York and front-runners...</td>\n",
       "      <td>1</td>\n",
       "    </tr>\n",
       "    <tr>\n",
       "      <th>...</th>\n",
       "      <td>...</td>\n",
       "      <td>...</td>\n",
       "      <td>...</td>\n",
       "    </tr>\n",
       "    <tr>\n",
       "      <th>6301</th>\n",
       "      <td>State Department says it can't find emails fro...</td>\n",
       "      <td>The State Department told the Republican Natio...</td>\n",
       "      <td>1</td>\n",
       "    </tr>\n",
       "    <tr>\n",
       "      <th>6302</th>\n",
       "      <td>The ‘P’ in PBS Should Stand for ‘Plutocratic’ ...</td>\n",
       "      <td>The ‘P’ in PBS Should Stand for ‘Plutocratic’ ...</td>\n",
       "      <td>0</td>\n",
       "    </tr>\n",
       "    <tr>\n",
       "      <th>6303</th>\n",
       "      <td>Anti-Trump Protesters Are Tools of the Oligarc...</td>\n",
       "      <td>Anti-Trump Protesters Are Tools of the Oligar...</td>\n",
       "      <td>0</td>\n",
       "    </tr>\n",
       "    <tr>\n",
       "      <th>6304</th>\n",
       "      <td>In Ethiopia, Obama seeks progress on peace, se...</td>\n",
       "      <td>ADDIS ABABA, Ethiopia —President Obama convene...</td>\n",
       "      <td>1</td>\n",
       "    </tr>\n",
       "    <tr>\n",
       "      <th>6305</th>\n",
       "      <td>Jeb Bush Is Suddenly Attacking Trump. Here's W...</td>\n",
       "      <td>Jeb Bush Is Suddenly Attacking Trump. Here's W...</td>\n",
       "      <td>1</td>\n",
       "    </tr>\n",
       "  </tbody>\n",
       "</table>\n",
       "<p>6306 rows × 3 columns</p>\n",
       "</div>"
      ],
      "text/plain": [
       "                                                  title  \\\n",
       "0                          You Can Smell Hillary’s Fear   \n",
       "1     Watch The Exact Moment Paul Ryan Committed Pol...   \n",
       "2           Kerry to go to Paris in gesture of sympathy   \n",
       "3     Bernie supporters on Twitter erupt in anger ag...   \n",
       "4      The Battle of New York: Why This Primary Matters   \n",
       "...                                                 ...   \n",
       "6301  State Department says it can't find emails fro...   \n",
       "6302  The ‘P’ in PBS Should Stand for ‘Plutocratic’ ...   \n",
       "6303  Anti-Trump Protesters Are Tools of the Oligarc...   \n",
       "6304  In Ethiopia, Obama seeks progress on peace, se...   \n",
       "6305  Jeb Bush Is Suddenly Attacking Trump. Here's W...   \n",
       "\n",
       "                                                   text  label  \n",
       "0     Daniel Greenfield, a Shillman Journalism Fello...      0  \n",
       "1     Google Pinterest Digg Linkedin Reddit Stumbleu...      0  \n",
       "2     U.S. Secretary of State John F. Kerry said Mon...      1  \n",
       "3     — Kaydee King (@KaydeeKing) November 9, 2016 T...      0  \n",
       "4     It's primary day in New York and front-runners...      1  \n",
       "...                                                 ...    ...  \n",
       "6301  The State Department told the Republican Natio...      1  \n",
       "6302  The ‘P’ in PBS Should Stand for ‘Plutocratic’ ...      0  \n",
       "6303   Anti-Trump Protesters Are Tools of the Oligar...      0  \n",
       "6304  ADDIS ABABA, Ethiopia —President Obama convene...      1  \n",
       "6305  Jeb Bush Is Suddenly Attacking Trump. Here's W...      1  \n",
       "\n",
       "[6306 rows x 3 columns]"
      ]
     },
     "execution_count": 18,
     "metadata": {},
     "output_type": "execute_result"
    }
   ],
   "source": [
    "encoder = LabelEncoder()\n",
    "df['label'] = encoder.fit_transform(df['label'])\n",
    "df"
   ]
  },
  {
   "cell_type": "code",
   "execution_count": 19,
   "id": "4eaea082",
   "metadata": {},
   "outputs": [
    {
     "data": {
      "text/plain": [
       "array(['FAKE', 'REAL'], dtype=object)"
      ]
     },
     "execution_count": 19,
     "metadata": {},
     "output_type": "execute_result"
    }
   ],
   "source": [
    "class_list = encoder.classes_\n",
    "class_list"
   ]
  },
  {
   "cell_type": "code",
   "execution_count": 20,
   "id": "58f3c97f",
   "metadata": {},
   "outputs": [],
   "source": [
    "import pickle\n",
    "encoding = pickle.dump(encoder,open('encoder.pkl','wb'))"
   ]
  },
  {
   "cell_type": "code",
   "execution_count": 21,
   "id": "4c2054ed",
   "metadata": {},
   "outputs": [],
   "source": [
    "# split the dataset into dependent and independent feature\n",
    "\n",
    "x=df.drop(\"label\", axis=1)\n",
    "y=df[\"label\"]"
   ]
  },
  {
   "cell_type": "code",
   "execution_count": 22,
   "id": "73cd12ac",
   "metadata": {},
   "outputs": [
    {
     "data": {
      "text/html": [
       "<div>\n",
       "<style scoped>\n",
       "    .dataframe tbody tr th:only-of-type {\n",
       "        vertical-align: middle;\n",
       "    }\n",
       "\n",
       "    .dataframe tbody tr th {\n",
       "        vertical-align: top;\n",
       "    }\n",
       "\n",
       "    .dataframe thead th {\n",
       "        text-align: right;\n",
       "    }\n",
       "</style>\n",
       "<table border=\"1\" class=\"dataframe\">\n",
       "  <thead>\n",
       "    <tr style=\"text-align: right;\">\n",
       "      <th></th>\n",
       "      <th>title</th>\n",
       "      <th>text</th>\n",
       "    </tr>\n",
       "  </thead>\n",
       "  <tbody>\n",
       "    <tr>\n",
       "      <th>0</th>\n",
       "      <td>You Can Smell Hillary’s Fear</td>\n",
       "      <td>Daniel Greenfield, a Shillman Journalism Fello...</td>\n",
       "    </tr>\n",
       "    <tr>\n",
       "      <th>1</th>\n",
       "      <td>Watch The Exact Moment Paul Ryan Committed Pol...</td>\n",
       "      <td>Google Pinterest Digg Linkedin Reddit Stumbleu...</td>\n",
       "    </tr>\n",
       "    <tr>\n",
       "      <th>2</th>\n",
       "      <td>Kerry to go to Paris in gesture of sympathy</td>\n",
       "      <td>U.S. Secretary of State John F. Kerry said Mon...</td>\n",
       "    </tr>\n",
       "    <tr>\n",
       "      <th>3</th>\n",
       "      <td>Bernie supporters on Twitter erupt in anger ag...</td>\n",
       "      <td>— Kaydee King (@KaydeeKing) November 9, 2016 T...</td>\n",
       "    </tr>\n",
       "    <tr>\n",
       "      <th>4</th>\n",
       "      <td>The Battle of New York: Why This Primary Matters</td>\n",
       "      <td>It's primary day in New York and front-runners...</td>\n",
       "    </tr>\n",
       "    <tr>\n",
       "      <th>...</th>\n",
       "      <td>...</td>\n",
       "      <td>...</td>\n",
       "    </tr>\n",
       "    <tr>\n",
       "      <th>6301</th>\n",
       "      <td>State Department says it can't find emails fro...</td>\n",
       "      <td>The State Department told the Republican Natio...</td>\n",
       "    </tr>\n",
       "    <tr>\n",
       "      <th>6302</th>\n",
       "      <td>The ‘P’ in PBS Should Stand for ‘Plutocratic’ ...</td>\n",
       "      <td>The ‘P’ in PBS Should Stand for ‘Plutocratic’ ...</td>\n",
       "    </tr>\n",
       "    <tr>\n",
       "      <th>6303</th>\n",
       "      <td>Anti-Trump Protesters Are Tools of the Oligarc...</td>\n",
       "      <td>Anti-Trump Protesters Are Tools of the Oligar...</td>\n",
       "    </tr>\n",
       "    <tr>\n",
       "      <th>6304</th>\n",
       "      <td>In Ethiopia, Obama seeks progress on peace, se...</td>\n",
       "      <td>ADDIS ABABA, Ethiopia —President Obama convene...</td>\n",
       "    </tr>\n",
       "    <tr>\n",
       "      <th>6305</th>\n",
       "      <td>Jeb Bush Is Suddenly Attacking Trump. Here's W...</td>\n",
       "      <td>Jeb Bush Is Suddenly Attacking Trump. Here's W...</td>\n",
       "    </tr>\n",
       "  </tbody>\n",
       "</table>\n",
       "<p>6306 rows × 2 columns</p>\n",
       "</div>"
      ],
      "text/plain": [
       "                                                  title  \\\n",
       "0                          You Can Smell Hillary’s Fear   \n",
       "1     Watch The Exact Moment Paul Ryan Committed Pol...   \n",
       "2           Kerry to go to Paris in gesture of sympathy   \n",
       "3     Bernie supporters on Twitter erupt in anger ag...   \n",
       "4      The Battle of New York: Why This Primary Matters   \n",
       "...                                                 ...   \n",
       "6301  State Department says it can't find emails fro...   \n",
       "6302  The ‘P’ in PBS Should Stand for ‘Plutocratic’ ...   \n",
       "6303  Anti-Trump Protesters Are Tools of the Oligarc...   \n",
       "6304  In Ethiopia, Obama seeks progress on peace, se...   \n",
       "6305  Jeb Bush Is Suddenly Attacking Trump. Here's W...   \n",
       "\n",
       "                                                   text  \n",
       "0     Daniel Greenfield, a Shillman Journalism Fello...  \n",
       "1     Google Pinterest Digg Linkedin Reddit Stumbleu...  \n",
       "2     U.S. Secretary of State John F. Kerry said Mon...  \n",
       "3     — Kaydee King (@KaydeeKing) November 9, 2016 T...  \n",
       "4     It's primary day in New York and front-runners...  \n",
       "...                                                 ...  \n",
       "6301  The State Department told the Republican Natio...  \n",
       "6302  The ‘P’ in PBS Should Stand for ‘Plutocratic’ ...  \n",
       "6303   Anti-Trump Protesters Are Tools of the Oligar...  \n",
       "6304  ADDIS ABABA, Ethiopia —President Obama convene...  \n",
       "6305  Jeb Bush Is Suddenly Attacking Trump. Here's W...  \n",
       "\n",
       "[6306 rows x 2 columns]"
      ]
     },
     "execution_count": 22,
     "metadata": {},
     "output_type": "execute_result"
    }
   ],
   "source": [
    "x # independent feature"
   ]
  },
  {
   "cell_type": "code",
   "execution_count": 23,
   "id": "bb3493f2",
   "metadata": {},
   "outputs": [
    {
     "data": {
      "text/plain": [
       "0       0\n",
       "1       0\n",
       "2       1\n",
       "3       0\n",
       "4       1\n",
       "       ..\n",
       "6301    1\n",
       "6302    0\n",
       "6303    0\n",
       "6304    1\n",
       "6305    1\n",
       "Name: label, Length: 6306, dtype: int32"
      ]
     },
     "execution_count": 23,
     "metadata": {},
     "output_type": "execute_result"
    }
   ],
   "source": [
    "y # dependent feature"
   ]
  },
  {
   "cell_type": "code",
   "execution_count": 24,
   "id": "33fa64ab",
   "metadata": {},
   "outputs": [
    {
     "data": {
      "text/plain": [
       "Index(['title', 'text'], dtype='object')"
      ]
     },
     "execution_count": 24,
     "metadata": {},
     "output_type": "execute_result"
    }
   ],
   "source": [
    "x.columns"
   ]
  },
  {
   "cell_type": "code",
   "execution_count": 25,
   "id": "a8d77c7a",
   "metadata": {},
   "outputs": [],
   "source": [
    "# if x contain 2 columns then train_test_split fetch an error \n",
    "# ValueError: Found input variables with inconsistent numbers of samples: [2, 6306]\n",
    " \n",
    "############\n",
    "# To avoid this error we can delete one less important column \n",
    "###########\n",
    "\n",
    "df.drop(\"title\", axis =1, inplace =True)"
   ]
  },
  {
   "cell_type": "code",
   "execution_count": 26,
   "id": "02e72810",
   "metadata": {},
   "outputs": [
    {
     "data": {
      "text/plain": [
       "(6306, 2)"
      ]
     },
     "execution_count": 26,
     "metadata": {},
     "output_type": "execute_result"
    }
   ],
   "source": [
    "df.shape"
   ]
  },
  {
   "cell_type": "code",
   "execution_count": 27,
   "id": "56ca151f",
   "metadata": {},
   "outputs": [],
   "source": [
    "# again split the dataset into dependent and independent feature\n",
    "\n",
    "x=df[\"text\"]\n",
    "y=df[\"label\"]"
   ]
  },
  {
   "cell_type": "code",
   "execution_count": 28,
   "id": "de1cb15c",
   "metadata": {},
   "outputs": [
    {
     "data": {
      "text/plain": [
       "0       Daniel Greenfield, a Shillman Journalism Fello...\n",
       "1       Google Pinterest Digg Linkedin Reddit Stumbleu...\n",
       "2       U.S. Secretary of State John F. Kerry said Mon...\n",
       "3       — Kaydee King (@KaydeeKing) November 9, 2016 T...\n",
       "4       It's primary day in New York and front-runners...\n",
       "                              ...                        \n",
       "6301    The State Department told the Republican Natio...\n",
       "6302    The ‘P’ in PBS Should Stand for ‘Plutocratic’ ...\n",
       "6303     Anti-Trump Protesters Are Tools of the Oligar...\n",
       "6304    ADDIS ABABA, Ethiopia —President Obama convene...\n",
       "6305    Jeb Bush Is Suddenly Attacking Trump. Here's W...\n",
       "Name: text, Length: 6306, dtype: object"
      ]
     },
     "execution_count": 28,
     "metadata": {},
     "output_type": "execute_result"
    }
   ],
   "source": [
    "x # independent feature"
   ]
  },
  {
   "cell_type": "code",
   "execution_count": 29,
   "id": "a7f15c2b",
   "metadata": {},
   "outputs": [
    {
     "data": {
      "text/plain": [
       "0       0\n",
       "1       0\n",
       "2       1\n",
       "3       0\n",
       "4       1\n",
       "       ..\n",
       "6301    1\n",
       "6302    0\n",
       "6303    0\n",
       "6304    1\n",
       "6305    1\n",
       "Name: label, Length: 6306, dtype: int32"
      ]
     },
     "execution_count": 29,
     "metadata": {},
     "output_type": "execute_result"
    }
   ],
   "source": [
    "y # dependent feature"
   ]
  },
  {
   "cell_type": "code",
   "execution_count": 30,
   "id": "60bee006",
   "metadata": {},
   "outputs": [
    {
     "name": "stdout",
     "output_type": "stream",
     "text": [
      "(4729, 67659) (1577, 67659) (4729,) (1577,)\n",
      "(4729, 1314) (1577, 1314) (4729,) (1577,)\n",
      "(4729, 2955) (1577, 2955) (4729,) (1577,)\n"
     ]
    }
   ],
   "source": [
    "############### 1. Word embedding for count vec\n",
    "count_vec = CountVectorizer(analyzer=\"word\")\n",
    "count_vec_x = count_vec.fit_transform(x)\n",
    "cv_x_train, cv_x_test, cv_y_train,cv_y_test = train_test_split(count_vec_x,y,random_state=30, test_size=0.25, stratify=y)\n",
    "print(cv_x_train.shape,cv_x_test.shape,cv_y_train.shape,cv_y_test.shape)\n",
    "\n",
    "############### 2. Word embedding for tfidf vec\n",
    "tfidf_vec = TfidfVectorizer(analyzer='word', min_df=0.05)\n",
    "tfidf_vec_x = tfidf_vec.fit_transform(x)\n",
    "tfidf_x_train, tfidf_x_test, tfidf_y_train,tfidf_y_test = train_test_split(tfidf_vec_x,y,random_state=30, test_size=0.25, stratify=y)\n",
    "print(tfidf_x_train.shape, tfidf_x_test.shape, tfidf_y_train.shape,tfidf_y_test.shape)\n",
    "\n",
    "############### 3. Word embedding for tfidf ngram vec\n",
    "tfidf_ngram_vec = TfidfVectorizer(analyzer='word', ngram_range=(2,3),   min_df=0.02)\n",
    "tfidf_ngram_vec_x = tfidf_ngram_vec.fit_transform(x)\n",
    "tfngram_x_train, tfngram_x_test, tfngram_y_train,tfngram_y_test = train_test_split(tfidf_ngram_vec_x,y,random_state=30, test_size=0.25, stratify=y)\n",
    "print(tfngram_x_train.shape, tfngram_x_test.shape, tfngram_y_train.shape,tfngram_y_test.shape)"
   ]
  },
  {
   "cell_type": "markdown",
   "id": "f64e8d03",
   "metadata": {},
   "source": [
    "## Step 5 - Model Training"
   ]
  },
  {
   "cell_type": "code",
   "execution_count": 31,
   "id": "bc39a883",
   "metadata": {},
   "outputs": [],
   "source": [
    "def train_model(model_name, x_train,x_test,y_train,y_test):\n",
    "    \"\"\"This function is for model trainingn\"\"\"    \n",
    "    model_name.fit(x_train,y_train)   ### Model Training\n",
    "    \n",
    "    \n",
    "    ############### model evaluation \n",
    "    \n",
    "    ########### Test Data Evaluation \n",
    "    print('#'*50)\n",
    "    print(f\"TESTING DATA EVALUATION\")\n",
    "    y_pred_test = model_name.predict(x_test)\n",
    "    acc_score = accuracy_score(y_test,y_pred_test)\n",
    "    cnf_matrix = confusion_matrix(y_test,y_pred_test)\n",
    "    clf_report = classification_report(y_test,y_pred_test)\n",
    "    \n",
    "    print(f\"Accuracy_Score = {acc_score}\")\n",
    "    print(f\"Confusion Matrix = \\n{cnf_matrix}\")\n",
    "    print(f\"Classification Report = \\n{clf_report}\")\n",
    "    \n",
    "    print('#'*50)\n",
    "    print(f\"TRAINING DATA EVALUATION\")\n",
    "    print()\n",
    "    print()\n",
    "    ########### training Data Evaluation \n",
    "    y_pred_train = model_name.predict(x_train)\n",
    "    acc_score = accuracy_score(y_train,y_pred_train)\n",
    "    cnf_matrix = confusion_matrix(y_train,y_pred_train)\n",
    "    clf_report = classification_report(y_train,y_pred_train)\n",
    "    \n",
    "    print(f\"Accuracy_Score = {acc_score}\")\n",
    "    print(f\"Confusion Matrix = \\n{cnf_matrix}\")\n",
    "    print(f\"Classification Report = \\n{clf_report}\")\n",
    "    \n",
    "    return \"Success\""
   ]
  },
  {
   "cell_type": "markdown",
   "id": "1c40b77e",
   "metadata": {},
   "source": [
    "## Step 6 - Model Evaluation"
   ]
  },
  {
   "cell_type": "markdown",
   "id": "b426d0f6",
   "metadata": {},
   "source": [
    "### 1. Logestic Regression"
   ]
  },
  {
   "cell_type": "code",
   "execution_count": 32,
   "id": "08d79039",
   "metadata": {},
   "outputs": [
    {
     "name": "stdout",
     "output_type": "stream",
     "text": [
      "##################################################\n",
      "TESTING DATA EVALUATION\n",
      "Accuracy_Score = 0.9194673430564363\n",
      "Confusion Matrix = \n",
      "[[737  51]\n",
      " [ 76 713]]\n",
      "Classification Report = \n",
      "              precision    recall  f1-score   support\n",
      "\n",
      "           0       0.91      0.94      0.92       788\n",
      "           1       0.93      0.90      0.92       789\n",
      "\n",
      "    accuracy                           0.92      1577\n",
      "   macro avg       0.92      0.92      0.92      1577\n",
      "weighted avg       0.92      0.92      0.92      1577\n",
      "\n",
      "##################################################\n",
      "TRAINING DATA EVALUATION\n",
      "\n",
      "\n",
      "Accuracy_Score = 0.9995770776062592\n",
      "Confusion Matrix = \n",
      "[[2364    0]\n",
      " [   2 2363]]\n",
      "Classification Report = \n",
      "              precision    recall  f1-score   support\n",
      "\n",
      "           0       1.00      1.00      1.00      2364\n",
      "           1       1.00      1.00      1.00      2365\n",
      "\n",
      "    accuracy                           1.00      4729\n",
      "   macro avg       1.00      1.00      1.00      4729\n",
      "weighted avg       1.00      1.00      1.00      4729\n",
      "\n",
      "##################################################\n",
      "TESTING DATA EVALUATION\n",
      "Accuracy_Score = 0.9042485732403297\n",
      "Confusion Matrix = \n",
      "[[714  74]\n",
      " [ 77 712]]\n",
      "Classification Report = \n",
      "              precision    recall  f1-score   support\n",
      "\n",
      "           0       0.90      0.91      0.90       788\n",
      "           1       0.91      0.90      0.90       789\n",
      "\n",
      "    accuracy                           0.90      1577\n",
      "   macro avg       0.90      0.90      0.90      1577\n",
      "weighted avg       0.90      0.90      0.90      1577\n",
      "\n",
      "##################################################\n",
      "TRAINING DATA EVALUATION\n",
      "\n",
      "\n",
      "Accuracy_Score = 0.9308521886233876\n",
      "Confusion Matrix = \n",
      "[[2206  158]\n",
      " [ 169 2196]]\n",
      "Classification Report = \n",
      "              precision    recall  f1-score   support\n",
      "\n",
      "           0       0.93      0.93      0.93      2364\n",
      "           1       0.93      0.93      0.93      2365\n",
      "\n",
      "    accuracy                           0.93      4729\n",
      "   macro avg       0.93      0.93      0.93      4729\n",
      "weighted avg       0.93      0.93      0.93      4729\n",
      "\n",
      "##################################################\n",
      "TESTING DATA EVALUATION\n",
      "Accuracy_Score = 0.8934686112872543\n",
      "Confusion Matrix = \n",
      "[[722  66]\n",
      " [102 687]]\n",
      "Classification Report = \n",
      "              precision    recall  f1-score   support\n",
      "\n",
      "           0       0.88      0.92      0.90       788\n",
      "           1       0.91      0.87      0.89       789\n",
      "\n",
      "    accuracy                           0.89      1577\n",
      "   macro avg       0.89      0.89      0.89      1577\n",
      "weighted avg       0.89      0.89      0.89      1577\n",
      "\n",
      "##################################################\n",
      "TRAINING DATA EVALUATION\n",
      "\n",
      "\n",
      "Accuracy_Score = 0.9312751110171283\n",
      "Confusion Matrix = \n",
      "[[2236  128]\n",
      " [ 197 2168]]\n",
      "Classification Report = \n",
      "              precision    recall  f1-score   support\n",
      "\n",
      "           0       0.92      0.95      0.93      2364\n",
      "           1       0.94      0.92      0.93      2365\n",
      "\n",
      "    accuracy                           0.93      4729\n",
      "   macro avg       0.93      0.93      0.93      4729\n",
      "weighted avg       0.93      0.93      0.93      4729\n",
      "\n"
     ]
    },
    {
     "data": {
      "text/plain": [
       "'Success'"
      ]
     },
     "execution_count": 32,
     "metadata": {},
     "output_type": "execute_result"
    }
   ],
   "source": [
    "lgr_model = LogisticRegression(max_iter= 500)\n",
    "\n",
    "train_model(lgr_model,cv_x_train, cv_x_test, cv_y_train,cv_y_test)\n",
    "train_model(lgr_model,tfidf_x_train, tfidf_x_test, tfidf_y_train,tfidf_y_test)\n",
    "train_model(lgr_model,tfngram_x_train, tfngram_x_test, tfngram_y_train,tfngram_y_test)"
   ]
  },
  {
   "cell_type": "markdown",
   "id": "aff0738c",
   "metadata": {},
   "source": [
    "## 2. K Nearest Neighbour (KNN)"
   ]
  },
  {
   "cell_type": "code",
   "execution_count": 33,
   "id": "18604edc",
   "metadata": {},
   "outputs": [
    {
     "name": "stdout",
     "output_type": "stream",
     "text": [
      "##################################################\n",
      "TESTING DATA EVALUATION\n",
      "Accuracy_Score = 0.8046924540266328\n",
      "Confusion Matrix = \n",
      "[[636 152]\n",
      " [156 633]]\n",
      "Classification Report = \n",
      "              precision    recall  f1-score   support\n",
      "\n",
      "           0       0.80      0.81      0.81       788\n",
      "           1       0.81      0.80      0.80       789\n",
      "\n",
      "    accuracy                           0.80      1577\n",
      "   macro avg       0.80      0.80      0.80      1577\n",
      "weighted avg       0.80      0.80      0.80      1577\n",
      "\n",
      "##################################################\n",
      "TRAINING DATA EVALUATION\n",
      "\n",
      "\n",
      "Accuracy_Score = 0.8657221399873123\n",
      "Confusion Matrix = \n",
      "[[2052  312]\n",
      " [ 323 2042]]\n",
      "Classification Report = \n",
      "              precision    recall  f1-score   support\n",
      "\n",
      "           0       0.86      0.87      0.87      2364\n",
      "           1       0.87      0.86      0.87      2365\n",
      "\n",
      "    accuracy                           0.87      4729\n",
      "   macro avg       0.87      0.87      0.87      4729\n",
      "weighted avg       0.87      0.87      0.87      4729\n",
      "\n",
      "##################################################\n",
      "TESTING DATA EVALUATION\n",
      "Accuracy_Score = 0.8046924540266328\n",
      "Confusion Matrix = \n",
      "[[640 148]\n",
      " [160 629]]\n",
      "Classification Report = \n",
      "              precision    recall  f1-score   support\n",
      "\n",
      "           0       0.80      0.81      0.81       788\n",
      "           1       0.81      0.80      0.80       789\n",
      "\n",
      "    accuracy                           0.80      1577\n",
      "   macro avg       0.80      0.80      0.80      1577\n",
      "weighted avg       0.80      0.80      0.80      1577\n",
      "\n",
      "##################################################\n",
      "TRAINING DATA EVALUATION\n",
      "\n",
      "\n",
      "Accuracy_Score = 0.8515542397969973\n",
      "Confusion Matrix = \n",
      "[[2012  352]\n",
      " [ 350 2015]]\n",
      "Classification Report = \n",
      "              precision    recall  f1-score   support\n",
      "\n",
      "           0       0.85      0.85      0.85      2364\n",
      "           1       0.85      0.85      0.85      2365\n",
      "\n",
      "    accuracy                           0.85      4729\n",
      "   macro avg       0.85      0.85      0.85      4729\n",
      "weighted avg       0.85      0.85      0.85      4729\n",
      "\n",
      "##################################################\n",
      "TESTING DATA EVALUATION\n",
      "Accuracy_Score = 0.5459733671528219\n",
      "Confusion Matrix = \n",
      "[[788   0]\n",
      " [716  73]]\n",
      "Classification Report = \n",
      "              precision    recall  f1-score   support\n",
      "\n",
      "           0       0.52      1.00      0.69       788\n",
      "           1       1.00      0.09      0.17       789\n",
      "\n",
      "    accuracy                           0.55      1577\n",
      "   macro avg       0.76      0.55      0.43      1577\n",
      "weighted avg       0.76      0.55      0.43      1577\n",
      "\n",
      "##################################################\n",
      "TRAINING DATA EVALUATION\n",
      "\n",
      "\n",
      "Accuracy_Score = 0.5413406639881582\n",
      "Confusion Matrix = \n",
      "[[2362    2]\n",
      " [2167  198]]\n",
      "Classification Report = \n",
      "              precision    recall  f1-score   support\n",
      "\n",
      "           0       0.52      1.00      0.69      2364\n",
      "           1       0.99      0.08      0.15      2365\n",
      "\n",
      "    accuracy                           0.54      4729\n",
      "   macro avg       0.76      0.54      0.42      4729\n",
      "weighted avg       0.76      0.54      0.42      4729\n",
      "\n"
     ]
    },
    {
     "data": {
      "text/plain": [
       "'Success'"
      ]
     },
     "execution_count": 33,
     "metadata": {},
     "output_type": "execute_result"
    }
   ],
   "source": [
    "knn_model = KNeighborsClassifier()\n",
    "\n",
    "train_model(knn_model,cv_x_train, cv_x_test, cv_y_train,cv_y_test)\n",
    "train_model(knn_model,tfidf_x_train, tfidf_x_test, tfidf_y_train,tfidf_y_test)\n",
    "train_model(knn_model,tfngram_x_train, tfngram_x_test, tfngram_y_train,tfngram_y_test)"
   ]
  },
  {
   "cell_type": "markdown",
   "id": "c7d18bdd",
   "metadata": {},
   "source": [
    "## 3. Decision Tree"
   ]
  },
  {
   "cell_type": "code",
   "execution_count": 34,
   "id": "691c8564",
   "metadata": {},
   "outputs": [
    {
     "name": "stdout",
     "output_type": "stream",
     "text": [
      "##################################################\n",
      "TESTING DATA EVALUATION\n",
      "Accuracy_Score = 0.8173747622067217\n",
      "Confusion Matrix = \n",
      "[[644 144]\n",
      " [144 645]]\n",
      "Classification Report = \n",
      "              precision    recall  f1-score   support\n",
      "\n",
      "           0       0.82      0.82      0.82       788\n",
      "           1       0.82      0.82      0.82       789\n",
      "\n",
      "    accuracy                           0.82      1577\n",
      "   macro avg       0.82      0.82      0.82      1577\n",
      "weighted avg       0.82      0.82      0.82      1577\n",
      "\n",
      "##################################################\n",
      "TRAINING DATA EVALUATION\n",
      "\n",
      "\n",
      "Accuracy_Score = 1.0\n",
      "Confusion Matrix = \n",
      "[[2364    0]\n",
      " [   0 2365]]\n",
      "Classification Report = \n",
      "              precision    recall  f1-score   support\n",
      "\n",
      "           0       1.00      1.00      1.00      2364\n",
      "           1       1.00      1.00      1.00      2365\n",
      "\n",
      "    accuracy                           1.00      4729\n",
      "   macro avg       1.00      1.00      1.00      4729\n",
      "weighted avg       1.00      1.00      1.00      4729\n",
      "\n",
      "##################################################\n",
      "TESTING DATA EVALUATION\n",
      "Accuracy_Score = 0.8142041851616995\n",
      "Confusion Matrix = \n",
      "[[631 157]\n",
      " [136 653]]\n",
      "Classification Report = \n",
      "              precision    recall  f1-score   support\n",
      "\n",
      "           0       0.82      0.80      0.81       788\n",
      "           1       0.81      0.83      0.82       789\n",
      "\n",
      "    accuracy                           0.81      1577\n",
      "   macro avg       0.81      0.81      0.81      1577\n",
      "weighted avg       0.81      0.81      0.81      1577\n",
      "\n",
      "##################################################\n",
      "TRAINING DATA EVALUATION\n",
      "\n",
      "\n",
      "Accuracy_Score = 1.0\n",
      "Confusion Matrix = \n",
      "[[2364    0]\n",
      " [   0 2365]]\n",
      "Classification Report = \n",
      "              precision    recall  f1-score   support\n",
      "\n",
      "           0       1.00      1.00      1.00      2364\n",
      "           1       1.00      1.00      1.00      2365\n",
      "\n",
      "    accuracy                           1.00      4729\n",
      "   macro avg       1.00      1.00      1.00      4729\n",
      "weighted avg       1.00      1.00      1.00      4729\n",
      "\n",
      "##################################################\n",
      "TESTING DATA EVALUATION\n",
      "Accuracy_Score = 0.7812301838934687\n",
      "Confusion Matrix = \n",
      "[[615 173]\n",
      " [172 617]]\n",
      "Classification Report = \n",
      "              precision    recall  f1-score   support\n",
      "\n",
      "           0       0.78      0.78      0.78       788\n",
      "           1       0.78      0.78      0.78       789\n",
      "\n",
      "    accuracy                           0.78      1577\n",
      "   macro avg       0.78      0.78      0.78      1577\n",
      "weighted avg       0.78      0.78      0.78      1577\n",
      "\n",
      "##################################################\n",
      "TRAINING DATA EVALUATION\n",
      "\n",
      "\n",
      "Accuracy_Score = 0.9997885388031297\n",
      "Confusion Matrix = \n",
      "[[2364    0]\n",
      " [   1 2364]]\n",
      "Classification Report = \n",
      "              precision    recall  f1-score   support\n",
      "\n",
      "           0       1.00      1.00      1.00      2364\n",
      "           1       1.00      1.00      1.00      2365\n",
      "\n",
      "    accuracy                           1.00      4729\n",
      "   macro avg       1.00      1.00      1.00      4729\n",
      "weighted avg       1.00      1.00      1.00      4729\n",
      "\n"
     ]
    },
    {
     "data": {
      "text/plain": [
       "'Success'"
      ]
     },
     "execution_count": 34,
     "metadata": {},
     "output_type": "execute_result"
    }
   ],
   "source": [
    "dt_model = DecisionTreeClassifier(random_state=2)\n",
    "\n",
    "train_model(dt_model,cv_x_train, cv_x_test, cv_y_train,cv_y_test)\n",
    "train_model(dt_model,tfidf_x_train, tfidf_x_test, tfidf_y_train,tfidf_y_test)\n",
    "train_model(dt_model,tfngram_x_train, tfngram_x_test, tfngram_y_train,tfngram_y_test)"
   ]
  },
  {
   "cell_type": "markdown",
   "id": "45f3d895",
   "metadata": {},
   "source": [
    "## 4. Random Forest"
   ]
  },
  {
   "cell_type": "code",
   "execution_count": 35,
   "id": "7fd1a819",
   "metadata": {},
   "outputs": [
    {
     "name": "stdout",
     "output_type": "stream",
     "text": [
      "##################################################\n",
      "TESTING DATA EVALUATION\n",
      "Accuracy_Score = 0.87000634115409\n",
      "Confusion Matrix = \n",
      "[[692  96]\n",
      " [109 680]]\n",
      "Classification Report = \n",
      "              precision    recall  f1-score   support\n",
      "\n",
      "           0       0.86      0.88      0.87       788\n",
      "           1       0.88      0.86      0.87       789\n",
      "\n",
      "    accuracy                           0.87      1577\n",
      "   macro avg       0.87      0.87      0.87      1577\n",
      "weighted avg       0.87      0.87      0.87      1577\n",
      "\n",
      "##################################################\n",
      "TRAINING DATA EVALUATION\n",
      "\n",
      "\n",
      "Accuracy_Score = 1.0\n",
      "Confusion Matrix = \n",
      "[[2364    0]\n",
      " [   0 2365]]\n",
      "Classification Report = \n",
      "              precision    recall  f1-score   support\n",
      "\n",
      "           0       1.00      1.00      1.00      2364\n",
      "           1       1.00      1.00      1.00      2365\n",
      "\n",
      "    accuracy                           1.00      4729\n",
      "   macro avg       1.00      1.00      1.00      4729\n",
      "weighted avg       1.00      1.00      1.00      4729\n",
      "\n",
      "##################################################\n",
      "TESTING DATA EVALUATION\n",
      "Accuracy_Score = 0.8998097653772986\n",
      "Confusion Matrix = \n",
      "[[725  63]\n",
      " [ 95 694]]\n",
      "Classification Report = \n",
      "              precision    recall  f1-score   support\n",
      "\n",
      "           0       0.88      0.92      0.90       788\n",
      "           1       0.92      0.88      0.90       789\n",
      "\n",
      "    accuracy                           0.90      1577\n",
      "   macro avg       0.90      0.90      0.90      1577\n",
      "weighted avg       0.90      0.90      0.90      1577\n",
      "\n",
      "##################################################\n",
      "TRAINING DATA EVALUATION\n",
      "\n",
      "\n",
      "Accuracy_Score = 1.0\n",
      "Confusion Matrix = \n",
      "[[2364    0]\n",
      " [   0 2365]]\n",
      "Classification Report = \n",
      "              precision    recall  f1-score   support\n",
      "\n",
      "           0       1.00      1.00      1.00      2364\n",
      "           1       1.00      1.00      1.00      2365\n",
      "\n",
      "    accuracy                           1.00      4729\n",
      "   macro avg       1.00      1.00      1.00      4729\n",
      "weighted avg       1.00      1.00      1.00      4729\n",
      "\n",
      "##################################################\n",
      "TESTING DATA EVALUATION\n",
      "Accuracy_Score = 0.8852251109701966\n",
      "Confusion Matrix = \n",
      "[[700  88]\n",
      " [ 93 696]]\n",
      "Classification Report = \n",
      "              precision    recall  f1-score   support\n",
      "\n",
      "           0       0.88      0.89      0.89       788\n",
      "           1       0.89      0.88      0.88       789\n",
      "\n",
      "    accuracy                           0.89      1577\n",
      "   macro avg       0.89      0.89      0.89      1577\n",
      "weighted avg       0.89      0.89      0.89      1577\n",
      "\n",
      "##################################################\n",
      "TRAINING DATA EVALUATION\n",
      "\n",
      "\n",
      "Accuracy_Score = 0.9997885388031297\n",
      "Confusion Matrix = \n",
      "[[2364    0]\n",
      " [   1 2364]]\n",
      "Classification Report = \n",
      "              precision    recall  f1-score   support\n",
      "\n",
      "           0       1.00      1.00      1.00      2364\n",
      "           1       1.00      1.00      1.00      2365\n",
      "\n",
      "    accuracy                           1.00      4729\n",
      "   macro avg       1.00      1.00      1.00      4729\n",
      "weighted avg       1.00      1.00      1.00      4729\n",
      "\n"
     ]
    },
    {
     "data": {
      "text/plain": [
       "'Success'"
      ]
     },
     "execution_count": 35,
     "metadata": {},
     "output_type": "execute_result"
    }
   ],
   "source": [
    "rf_model = RandomForestClassifier()\n",
    "\n",
    "train_model(rf_model,cv_x_train, cv_x_test, cv_y_train,cv_y_test)\n",
    "train_model(rf_model,tfidf_x_train, tfidf_x_test, tfidf_y_train,tfidf_y_test)\n",
    "train_model(rf_model,tfngram_x_train, tfngram_x_test, tfngram_y_train,tfngram_y_test)"
   ]
  },
  {
   "cell_type": "markdown",
   "id": "391d5c58",
   "metadata": {},
   "source": [
    "## 5. Support Vector Machine"
   ]
  },
  {
   "cell_type": "code",
   "execution_count": 36,
   "id": "7f9125a8",
   "metadata": {},
   "outputs": [
    {
     "name": "stdout",
     "output_type": "stream",
     "text": [
      "##################################################\n",
      "TESTING DATA EVALUATION\n",
      "Accuracy_Score = 0.8459099556119214\n",
      "Confusion Matrix = \n",
      "[[739  49]\n",
      " [194 595]]\n",
      "Classification Report = \n",
      "              precision    recall  f1-score   support\n",
      "\n",
      "           0       0.79      0.94      0.86       788\n",
      "           1       0.92      0.75      0.83       789\n",
      "\n",
      "    accuracy                           0.85      1577\n",
      "   macro avg       0.86      0.85      0.84      1577\n",
      "weighted avg       0.86      0.85      0.84      1577\n",
      "\n",
      "##################################################\n",
      "TRAINING DATA EVALUATION\n",
      "\n",
      "\n",
      "Accuracy_Score = 0.8809473461619792\n",
      "Confusion Matrix = \n",
      "[[2273   91]\n",
      " [ 472 1893]]\n",
      "Classification Report = \n",
      "              precision    recall  f1-score   support\n",
      "\n",
      "           0       0.83      0.96      0.89      2364\n",
      "           1       0.95      0.80      0.87      2365\n",
      "\n",
      "    accuracy                           0.88      4729\n",
      "   macro avg       0.89      0.88      0.88      4729\n",
      "weighted avg       0.89      0.88      0.88      4729\n",
      "\n",
      "##################################################\n",
      "TESTING DATA EVALUATION\n",
      "Accuracy_Score = 0.9239061509194674\n",
      "Confusion Matrix = \n",
      "[[731  57]\n",
      " [ 63 726]]\n",
      "Classification Report = \n",
      "              precision    recall  f1-score   support\n",
      "\n",
      "           0       0.92      0.93      0.92       788\n",
      "           1       0.93      0.92      0.92       789\n",
      "\n",
      "    accuracy                           0.92      1577\n",
      "   macro avg       0.92      0.92      0.92      1577\n",
      "weighted avg       0.92      0.92      0.92      1577\n",
      "\n",
      "##################################################\n",
      "TRAINING DATA EVALUATION\n",
      "\n",
      "\n",
      "Accuracy_Score = 0.9801226474941848\n",
      "Confusion Matrix = \n",
      "[[2322   42]\n",
      " [  52 2313]]\n",
      "Classification Report = \n",
      "              precision    recall  f1-score   support\n",
      "\n",
      "           0       0.98      0.98      0.98      2364\n",
      "           1       0.98      0.98      0.98      2365\n",
      "\n",
      "    accuracy                           0.98      4729\n",
      "   macro avg       0.98      0.98      0.98      4729\n",
      "weighted avg       0.98      0.98      0.98      4729\n",
      "\n",
      "##################################################\n",
      "TESTING DATA EVALUATION\n",
      "Accuracy_Score = 0.9023462270133165\n",
      "Confusion Matrix = \n",
      "[[736  52]\n",
      " [102 687]]\n",
      "Classification Report = \n",
      "              precision    recall  f1-score   support\n",
      "\n",
      "           0       0.88      0.93      0.91       788\n",
      "           1       0.93      0.87      0.90       789\n",
      "\n",
      "    accuracy                           0.90      1577\n",
      "   macro avg       0.90      0.90      0.90      1577\n",
      "weighted avg       0.90      0.90      0.90      1577\n",
      "\n",
      "##################################################\n",
      "TRAINING DATA EVALUATION\n",
      "\n",
      "\n",
      "Accuracy_Score = 0.9934447028970184\n",
      "Confusion Matrix = \n",
      "[[2349   15]\n",
      " [  16 2349]]\n",
      "Classification Report = \n",
      "              precision    recall  f1-score   support\n",
      "\n",
      "           0       0.99      0.99      0.99      2364\n",
      "           1       0.99      0.99      0.99      2365\n",
      "\n",
      "    accuracy                           0.99      4729\n",
      "   macro avg       0.99      0.99      0.99      4729\n",
      "weighted avg       0.99      0.99      0.99      4729\n",
      "\n"
     ]
    },
    {
     "data": {
      "text/plain": [
       "'Success'"
      ]
     },
     "execution_count": 36,
     "metadata": {},
     "output_type": "execute_result"
    }
   ],
   "source": [
    "svc_model = SVC()\n",
    "\n",
    "train_model(svc_model,cv_x_train, cv_x_test, cv_y_train,cv_y_test)\n",
    "train_model(svc_model,tfidf_x_train, tfidf_x_test, tfidf_y_train,tfidf_y_test)\n",
    "train_model(svc_model,tfngram_x_train, tfngram_x_test, tfngram_y_train,tfngram_y_test)"
   ]
  },
  {
   "cell_type": "markdown",
   "id": "7ae646dc",
   "metadata": {},
   "source": [
    "## 6. Naive Bayes Classifier"
   ]
  },
  {
   "cell_type": "code",
   "execution_count": 37,
   "id": "73340d55",
   "metadata": {},
   "outputs": [
    {
     "name": "stdout",
     "output_type": "stream",
     "text": [
      "##################################################\n",
      "TESTING DATA EVALUATION\n",
      "Accuracy_Score = 0.8953709575142677\n",
      "Confusion Matrix = \n",
      "[[681 107]\n",
      " [ 58 731]]\n",
      "Classification Report = \n",
      "              precision    recall  f1-score   support\n",
      "\n",
      "           0       0.92      0.86      0.89       788\n",
      "           1       0.87      0.93      0.90       789\n",
      "\n",
      "    accuracy                           0.90      1577\n",
      "   macro avg       0.90      0.90      0.90      1577\n",
      "weighted avg       0.90      0.90      0.90      1577\n",
      "\n",
      "##################################################\n",
      "TRAINING DATA EVALUATION\n",
      "\n",
      "\n",
      "Accuracy_Score = 0.9306407274265173\n",
      "Confusion Matrix = \n",
      "[[2120  244]\n",
      " [  84 2281]]\n",
      "Classification Report = \n",
      "              precision    recall  f1-score   support\n",
      "\n",
      "           0       0.96      0.90      0.93      2364\n",
      "           1       0.90      0.96      0.93      2365\n",
      "\n",
      "    accuracy                           0.93      4729\n",
      "   macro avg       0.93      0.93      0.93      4729\n",
      "weighted avg       0.93      0.93      0.93      4729\n",
      "\n",
      "##################################################\n",
      "TESTING DATA EVALUATION\n",
      "Accuracy_Score = 0.859860494610019\n",
      "Confusion Matrix = \n",
      "[[695  93]\n",
      " [128 661]]\n",
      "Classification Report = \n",
      "              precision    recall  f1-score   support\n",
      "\n",
      "           0       0.84      0.88      0.86       788\n",
      "           1       0.88      0.84      0.86       789\n",
      "\n",
      "    accuracy                           0.86      1577\n",
      "   macro avg       0.86      0.86      0.86      1577\n",
      "weighted avg       0.86      0.86      0.86      1577\n",
      "\n",
      "##################################################\n",
      "TRAINING DATA EVALUATION\n",
      "\n",
      "\n",
      "Accuracy_Score = 0.8712201311059421\n",
      "Confusion Matrix = \n",
      "[[2121  243]\n",
      " [ 366 1999]]\n",
      "Classification Report = \n",
      "              precision    recall  f1-score   support\n",
      "\n",
      "           0       0.85      0.90      0.87      2364\n",
      "           1       0.89      0.85      0.87      2365\n",
      "\n",
      "    accuracy                           0.87      4729\n",
      "   macro avg       0.87      0.87      0.87      4729\n",
      "weighted avg       0.87      0.87      0.87      4729\n",
      "\n",
      "##################################################\n",
      "TESTING DATA EVALUATION\n",
      "Accuracy_Score = 0.8585922637920101\n",
      "Confusion Matrix = \n",
      "[[685 103]\n",
      " [120 669]]\n",
      "Classification Report = \n",
      "              precision    recall  f1-score   support\n",
      "\n",
      "           0       0.85      0.87      0.86       788\n",
      "           1       0.87      0.85      0.86       789\n",
      "\n",
      "    accuracy                           0.86      1577\n",
      "   macro avg       0.86      0.86      0.86      1577\n",
      "weighted avg       0.86      0.86      0.86      1577\n",
      "\n",
      "##################################################\n",
      "TRAINING DATA EVALUATION\n",
      "\n",
      "\n",
      "Accuracy_Score = 0.8646648340029605\n",
      "Confusion Matrix = \n",
      "[[2081  283]\n",
      " [ 357 2008]]\n",
      "Classification Report = \n",
      "              precision    recall  f1-score   support\n",
      "\n",
      "           0       0.85      0.88      0.87      2364\n",
      "           1       0.88      0.85      0.86      2365\n",
      "\n",
      "    accuracy                           0.86      4729\n",
      "   macro avg       0.87      0.86      0.86      4729\n",
      "weighted avg       0.87      0.86      0.86      4729\n",
      "\n"
     ]
    },
    {
     "data": {
      "text/plain": [
       "'Success'"
      ]
     },
     "execution_count": 37,
     "metadata": {},
     "output_type": "execute_result"
    }
   ],
   "source": [
    "nb_model = MultinomialNB()\n",
    "\n",
    "train_model(nb_model,cv_x_train, cv_x_test, cv_y_train,cv_y_test)\n",
    "train_model(nb_model,tfidf_x_train, tfidf_x_test, tfidf_y_train,tfidf_y_test)\n",
    "train_model(nb_model,tfngram_x_train, tfngram_x_test, tfngram_y_train,tfngram_y_test)"
   ]
  },
  {
   "cell_type": "markdown",
   "id": "f26bb9d4",
   "metadata": {},
   "source": [
    "## Final Model Selection"
   ]
  },
  {
   "cell_type": "code",
   "execution_count": 38,
   "id": "956d7924",
   "metadata": {},
   "outputs": [
    {
     "name": "stdout",
     "output_type": "stream",
     "text": [
      "##################################################\n",
      "TESTING DATA EVALUATION\n",
      "Accuracy_Score = 0.9042485732403297\n",
      "Confusion Matrix = \n",
      "[[714  74]\n",
      " [ 77 712]]\n",
      "Classification Report = \n",
      "              precision    recall  f1-score   support\n",
      "\n",
      "           0       0.90      0.91      0.90       788\n",
      "           1       0.91      0.90      0.90       789\n",
      "\n",
      "    accuracy                           0.90      1577\n",
      "   macro avg       0.90      0.90      0.90      1577\n",
      "weighted avg       0.90      0.90      0.90      1577\n",
      "\n",
      "##################################################\n",
      "TRAINING DATA EVALUATION\n",
      "\n",
      "\n",
      "Accuracy_Score = 0.9308521886233876\n",
      "Confusion Matrix = \n",
      "[[2206  158]\n",
      " [ 169 2196]]\n",
      "Classification Report = \n",
      "              precision    recall  f1-score   support\n",
      "\n",
      "           0       0.93      0.93      0.93      2364\n",
      "           1       0.93      0.93      0.93      2365\n",
      "\n",
      "    accuracy                           0.93      4729\n",
      "   macro avg       0.93      0.93      0.93      4729\n",
      "weighted avg       0.93      0.93      0.93      4729\n",
      "\n"
     ]
    },
    {
     "data": {
      "text/plain": [
       "'Success'"
      ]
     },
     "execution_count": 38,
     "metadata": {},
     "output_type": "execute_result"
    }
   ],
   "source": [
    "lgr_model = LogisticRegression(max_iter= 500)\n",
    "\n",
    "train_model(lgr_model,tfidf_x_train, tfidf_x_test, tfidf_y_train,tfidf_y_test)"
   ]
  },
  {
   "cell_type": "code",
   "execution_count": 39,
   "id": "649c7a6f",
   "metadata": {},
   "outputs": [],
   "source": [
    "import pickle\n",
    "model = pickle.dump(lgr_model,open('model.pkl','wb'))"
   ]
  },
  {
   "cell_type": "code",
   "execution_count": 40,
   "id": "9afe7554",
   "metadata": {},
   "outputs": [],
   "source": [
    "tfidf = pickle.dump(tfidf_vec,open('tfidf_vec.pkl','wb'))"
   ]
  },
  {
   "cell_type": "markdown",
   "id": "1fc5ac2a",
   "metadata": {},
   "source": [
    "## User Define Function"
   ]
  },
  {
   "cell_type": "code",
   "execution_count": 41,
   "id": "a646c6c9",
   "metadata": {},
   "outputs": [],
   "source": [
    "def prediction(article):\n",
    "    text = [\"\".join(article)]\n",
    "    user_count_vec = tfidf_vec.transform(text)\n",
    "    result = lgr_model.predict(user_count_vec)\n",
    "    class_list = encoder.classes_\n",
    "    return (f\"News = {class_list[result[0]]}\")"
   ]
  },
  {
   "cell_type": "code",
   "execution_count": 42,
   "id": "c5a6090b",
   "metadata": {},
   "outputs": [
    {
     "data": {
      "text/html": [
       "<div>\n",
       "<style scoped>\n",
       "    .dataframe tbody tr th:only-of-type {\n",
       "        vertical-align: middle;\n",
       "    }\n",
       "\n",
       "    .dataframe tbody tr th {\n",
       "        vertical-align: top;\n",
       "    }\n",
       "\n",
       "    .dataframe thead th {\n",
       "        text-align: right;\n",
       "    }\n",
       "</style>\n",
       "<table border=\"1\" class=\"dataframe\">\n",
       "  <thead>\n",
       "    <tr style=\"text-align: right;\">\n",
       "      <th></th>\n",
       "      <th>text</th>\n",
       "      <th>label</th>\n",
       "    </tr>\n",
       "  </thead>\n",
       "  <tbody>\n",
       "    <tr>\n",
       "      <th>0</th>\n",
       "      <td>Daniel Greenfield, a Shillman Journalism Fello...</td>\n",
       "      <td>0</td>\n",
       "    </tr>\n",
       "    <tr>\n",
       "      <th>1</th>\n",
       "      <td>Google Pinterest Digg Linkedin Reddit Stumbleu...</td>\n",
       "      <td>0</td>\n",
       "    </tr>\n",
       "    <tr>\n",
       "      <th>2</th>\n",
       "      <td>U.S. Secretary of State John F. Kerry said Mon...</td>\n",
       "      <td>1</td>\n",
       "    </tr>\n",
       "    <tr>\n",
       "      <th>3</th>\n",
       "      <td>— Kaydee King (@KaydeeKing) November 9, 2016 T...</td>\n",
       "      <td>0</td>\n",
       "    </tr>\n",
       "    <tr>\n",
       "      <th>4</th>\n",
       "      <td>It's primary day in New York and front-runners...</td>\n",
       "      <td>1</td>\n",
       "    </tr>\n",
       "  </tbody>\n",
       "</table>\n",
       "</div>"
      ],
      "text/plain": [
       "                                                text  label\n",
       "0  Daniel Greenfield, a Shillman Journalism Fello...      0\n",
       "1  Google Pinterest Digg Linkedin Reddit Stumbleu...      0\n",
       "2  U.S. Secretary of State John F. Kerry said Mon...      1\n",
       "3  — Kaydee King (@KaydeeKing) November 9, 2016 T...      0\n",
       "4  It's primary day in New York and front-runners...      1"
      ]
     },
     "execution_count": 42,
     "metadata": {},
     "output_type": "execute_result"
    }
   ],
   "source": [
    "df.head()"
   ]
  },
  {
   "cell_type": "code",
   "execution_count": 43,
   "id": "99f32fdd",
   "metadata": {},
   "outputs": [
    {
     "data": {
      "text/plain": [
       "'News = REAL'"
      ]
     },
     "execution_count": 43,
     "metadata": {},
     "output_type": "execute_result"
    }
   ],
   "source": [
    "article=\"\"\"U.S. Secretary of State John F. Kerry said Monday that he will stop in Paris later this week, amid criticism that no top American officials attended Sundayâ€™s unity march against terrorism.\n",
    "\n",
    "Kerry said he expects to arrive in Paris Thursday evening, as he heads home after a week abroad. He said he will fly to France at the conclusion of a series of meetings scheduled for Thursday in Sofia, Bulgaria. He plans to meet the next day with Foreign Minister Laurent Fabius and President Francois Hollande, then return to Washington.\n",
    "\n",
    "The visit by Kerry, who has family and childhood ties to the country and speaks fluent French, could address some of the criticism that the United States snubbed France in its darkest hour in many years.\n",
    "\n",
    "The French press on Monday was filled with questions about why neither President Obama nor Kerry attended Sundayâ€™s march, as about 40 leaders of other nations did. Obama was said to have stayed away because his own security needs can be taxing on a country, and Kerry had prior commitments.\n",
    "\n",
    "Among roughly 40 leaders who did attend was Israeli Prime Minister Benjamin Netanyahu, no stranger to intense security, who marched beside Hollande through the city streets. The highest ranking U.S. officials attending the march were Jane Hartley, the ambassador to France, and Victoria Nuland, the assistant secretary of state for European affairs. Attorney General Eric H. Holder Jr. was in Paris for meetings with law enforcement officials but did not participate in the march.\n",
    "\n",
    "Kerry spent Sunday at a business summit hosted by Indiaâ€™s prime minister, Narendra Modi. The United States is eager for India to relax stringent laws that function as barriers to foreign investment and hopes Modiâ€™s government will act to open the huge Indian market for more American businesses.\n",
    "\n",
    "In a news conference, Kerry brushed aside criticism that the United States had not sent a more senior official to Paris as â€œquibbling a little bit.â€ He noted that many staffers of the American Embassy in Paris attended the march, including the ambassador. He said he had wanted to be present at the march himself but could not because of his prior commitments in India.\n",
    "\n",
    "â€œBut that is why I am going there on the way home, to make it crystal clear how passionately we feel about the events that have taken place there,â€ he said.\n",
    "\n",
    "â€œAnd I donâ€™t think the people of France have any doubts about Americaâ€™s understanding of what happened, of our personal sense of lo\"\"\"\n",
    "prediction(article)"
   ]
  },
  {
   "cell_type": "code",
   "execution_count": 44,
   "id": "d35441a0",
   "metadata": {},
   "outputs": [
    {
     "data": {
      "text/plain": [
       "'News = REAL'"
      ]
     },
     "execution_count": 44,
     "metadata": {},
     "output_type": "execute_result"
    }
   ],
   "source": [
    "article = \"\"\"President Joe Biden will announce new actions on climate change that he can take on his own just days after an influential Democratic senator quashed hopes for a sweeping legislative package of new environmental programs this year.\n",
    "\n",
    "Biden is to unveil the latest efforts during a visit on Wednesday to a former coal-fired power plant in Somerset, Massachusetts, that is shifting to offshore wind manufacturing. It’s the embodiment of the transition to clean energy that Biden is seeking but has struggled to realize in the first 18 months of his presidency.\n",
    "\n",
    "Wednesday’s executive actions include new initiatives to bolster the domestic offshore wind industry as well as efforts to help communities cope with soaring temperatures through programs administered by the Federal Emergency Management Agency and the Department of Health and Human Services, according to a White House official.\"\"\"\n",
    "prediction(article)"
   ]
  },
  {
   "cell_type": "code",
   "execution_count": 45,
   "id": "f4861544",
   "metadata": {},
   "outputs": [
    {
     "data": {
      "text/plain": [
       "'News = REAL'"
      ]
     },
     "execution_count": 45,
     "metadata": {},
     "output_type": "execute_result"
    }
   ],
   "source": [
    "article = \"\"\"Former Indian cricketer Syed Kirmani has backed Virat Kohli for the upcoming T20 World Cup, saying that once the star batter gets into form, he will be unstoppable.\n",
    "\n",
    "Kohli is currently going through a lean patch in international cricket, with his last hundred coming way back in 2019. With the World Cup in Australia on the horizon, many have questioned the star batter's spot in the squad.\n",
    "\n",
    "However, Kirmani backed the former India captain and said that he should be part of the team that will be travelling down under. Talking to Dainik Jagran, the World Cup winner said that Kohli has loads of experience and once he returns to form, the star batter will be unstoppable.\n",
    "\n",
    "Kirmani also said that Kohli could be a game-changer during the tournament and a player with his abilities deserves to be in the squad.\n",
    "\n",
    "“Virat Kohli has loads of experience. He should be in the T20 World Cup squad. Once Kohli returns to form, he will be unstoppable. He could be a game-changer. A player with Kohli’s experience and abilities deserves to be in the World Cup squad,\" said Kirmani.\n",
    "\n",
    "Kirmani also added that if someone else was in Kohli's place, he would have lost his spot in the team, since the competition for places is tough at the moment. He ended by saying that an established player like Kohli should be given the benefit of the doubt.\n",
    "\n",
    "ADVERTISEMENT\n",
    "“There is a tough competition in the Indian team. Look, Had it been someone else in place of Virat, he would’ve been dropped from the team by now. But I feel that an established player should be given the benefit of the doubt,\" said Kirmani.\"\"\"\n",
    "prediction(article)"
   ]
  },
  {
   "cell_type": "code",
   "execution_count": 46,
   "id": "a7cdeb94",
   "metadata": {},
   "outputs": [
    {
     "data": {
      "text/plain": [
       "'News = FAKE'"
      ]
     },
     "execution_count": 46,
     "metadata": {},
     "output_type": "execute_result"
    }
   ],
   "source": [
    "article = \"\"\"Click Here To Learn More About Alexandra's Personalized Essences Psychic Protection Click Here for More Information on Psychic Protection! Implant Removal Series Click here to listen to the IRP and SA/DNA Process Read The Testimonials Click Here To Read What Others Are Experiencing! Copyright Â© 2012 by Galactic Connection. All Rights Reserved. \n",
    "Excerpts may be used, provided that full and clear credit is given to Alexandra Meadors and www.galacticconnection.com with appropriate and specific direction to the original content. Unauthorized use and/or duplication of any material on this website without express and written permission from its author and owner is strictly prohibited. Thank you. \n",
    "Privacy Policy \n",
    "By subscribing to GalacticConnection.com you acknowledge that your name and e-mail address will be added to our database. As with all other personal information, only working affiliates of GalacticConnection.com have access to this data. We do not give GalacticConnection.com addresses to outside companies, nor will we ever rent or sell your email address. Any e-mail you send to GalacticConnection.com is completely confidential. Therefore, we will not add your name to our e-mail list without your permission. Continue reading... Galactic Connection 2016 | Design & Development by AA at Superluminal Systems Sign Up forOur Newsletter \n",
    "Join our newsletter to receive exclusive updates, interviews, discounts, and more. Join Us!\"\"\"\n",
    "prediction(article)"
   ]
  },
  {
   "cell_type": "code",
   "execution_count": 47,
   "id": "aa491708",
   "metadata": {},
   "outputs": [
    {
     "data": {
      "text/plain": [
       "{'col_name': ['text']}"
      ]
     },
     "execution_count": 47,
     "metadata": {},
     "output_type": "execute_result"
    }
   ],
   "source": [
    "columns_dict = {\"col_name\": [\"text\"]}\n",
    "columns_dict"
   ]
  },
  {
   "cell_type": "code",
   "execution_count": 48,
   "id": "61d09e66",
   "metadata": {},
   "outputs": [],
   "source": [
    "import json"
   ]
  },
  {
   "cell_type": "code",
   "execution_count": 49,
   "id": "ad374628",
   "metadata": {},
   "outputs": [],
   "source": [
    "with open('columns_name.json','w') as json_file:\n",
    "    json.dump(columns_dict,json_file)"
   ]
  }
 ],
 "metadata": {
  "kernelspec": {
   "display_name": "Python 3 (ipykernel)",
   "language": "python",
   "name": "python3"
  },
  "language_info": {
   "codemirror_mode": {
    "name": "ipython",
    "version": 3
   },
   "file_extension": ".py",
   "mimetype": "text/x-python",
   "name": "python",
   "nbconvert_exporter": "python",
   "pygments_lexer": "ipython3",
   "version": "3.10.2"
  }
 },
 "nbformat": 4,
 "nbformat_minor": 5
}
